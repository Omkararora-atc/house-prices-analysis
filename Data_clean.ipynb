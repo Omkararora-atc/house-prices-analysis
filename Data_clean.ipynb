{
 "cells": [
  {
   "metadata": {},
   "cell_type": "markdown",
   "source": "### Importing the required libraries",
   "id": "b822fb15512eeb69"
  },
  {
   "metadata": {
    "ExecuteTime": {
     "end_time": "2025-05-24T05:20:09.028211Z",
     "start_time": "2025-05-24T05:20:09.024485Z"
    }
   },
   "cell_type": "code",
   "source": [
    "import pandas as pd\n",
    "import numpy as np\n",
    "import matplotlib.pyplot as plt\n",
    "import seaborn as sns"
   ],
   "id": "initial_id",
   "outputs": [],
   "execution_count": 1
  },
  {
   "metadata": {},
   "cell_type": "markdown",
   "source": "### Reading the Dataset and converting to DataFrame",
   "id": "c951952be57f2531"
  },
  {
   "metadata": {
    "ExecuteTime": {
     "end_time": "2025-05-24T05:20:10.241871Z",
     "start_time": "2025-05-24T05:20:09.058680Z"
    }
   },
   "cell_type": "code",
   "source": [
    "df=pd.read_csv(\"house_prices.csv\")\n",
    "df=pd.DataFrame(df)\n"
   ],
   "id": "788ba86bf3b5fce6",
   "outputs": [],
   "execution_count": 2
  },
  {
   "metadata": {
    "ExecuteTime": {
     "end_time": "2025-05-24T05:20:10.704584Z",
     "start_time": "2025-05-24T05:20:10.511145Z"
    }
   },
   "cell_type": "code",
   "source": "df",
   "id": "657da059dab5a2d0",
   "outputs": [
    {
     "data": {
      "text/plain": [
       "         Index                                              Title  \\\n",
       "0            0  1 BHK Ready to Occupy Flat for sale in Srushti...   \n",
       "1            1  2 BHK Ready to Occupy Flat for sale in Dosti V...   \n",
       "2            2  2 BHK Ready to Occupy Flat for sale in Sunrise...   \n",
       "3            3        1 BHK Ready to Occupy Flat for sale Kasheli   \n",
       "4            4  2 BHK Ready to Occupy Flat for sale in TenX Ha...   \n",
       "...        ...                                                ...   \n",
       "187526  187526  3 BHK Ready to Occupy Flat for sale in Bollywo...   \n",
       "187527  187527  3 BHK Ready to Occupy Flat for sale in Sushma ...   \n",
       "187528  187528  3 BHK Ready to Occupy Flat for sale in Bollywo...   \n",
       "187529  187529  2 BHK Ready to Occupy Flat for sale in Friends...   \n",
       "187530  187530  3 BHK Ready to Occupy Flat for sale in Affinit...   \n",
       "\n",
       "                                              Description Amount(in rupees)  \\\n",
       "0       Bhiwandi, Thane has an attractive 1 BHK Flat f...           42 Lac    \n",
       "1       One can find this stunning 2 BHK flat for sale...           98 Lac    \n",
       "2       Up for immediate sale is a 2 BHK apartment in ...          1.40 Cr    \n",
       "3       This beautiful 1 BHK Flat is available for sal...           25 Lac    \n",
       "4       This lovely 2 BHK Flat in Pokhran Road, Thane ...          1.60 Cr    \n",
       "...                                                   ...               ...   \n",
       "187526  This magnificent 3 BHK Flat is available for s...           63 Lac    \n",
       "187527  Have a look at this immaculate 3 BHK flat for ...           55 Lac    \n",
       "187528  Gazipur, Zirakpur has an appealing 3 BHK flat ...           76 Lac    \n",
       "187529  Up for immediate sale is a 2 BHK apartment in ...           30 Lac    \n",
       "187530  This exquisite 3 BHK Flat is offered for sale ...          1.18 Cr    \n",
       "\n",
       "        Price (in rupees)  location Carpet Area         Status         Floor  \\\n",
       "0                  6000.0     thane    500 sqft  Ready to Move  10 out of 11   \n",
       "1                 13799.0     thane    473 sqft  Ready to Move   3 out of 22   \n",
       "2                 17500.0     thane    779 sqft  Ready to Move  10 out of 29   \n",
       "3                     NaN     thane    530 sqft  Ready to Move    1 out of 3   \n",
       "4                 18824.0     thane    635 sqft  Ready to Move  20 out of 42   \n",
       "...                   ...       ...         ...            ...           ...   \n",
       "187526             3225.0  zirakpur         NaN  Ready to Move    2 out of 4   \n",
       "187527             3274.0  zirakpur         NaN  Ready to Move    4 out of 6   \n",
       "187528             4343.0  zirakpur   1250 sqft  Ready to Move    1 out of 3   \n",
       "187529             4231.0  zirakpur         NaN  Ready to Move    2 out of 2   \n",
       "187530             6162.0  zirakpur         NaN  Ready to Move   5 out of 13   \n",
       "\n",
       "         Transaction  ...        facing             overlooking  \\\n",
       "0             Resale  ...           NaN                     NaN   \n",
       "1             Resale  ...          East             Garden/Park   \n",
       "2             Resale  ...          East             Garden/Park   \n",
       "3             Resale  ...           NaN                     NaN   \n",
       "4             Resale  ...          West  Garden/Park, Main Road   \n",
       "...              ...  ...           ...                     ...   \n",
       "187526  New Property  ...          East             Garden/Park   \n",
       "187527        Resale  ...  North - East  Garden/Park, Main Road   \n",
       "187528        Resale  ...          East  Garden/Park, Main Road   \n",
       "187529        Resale  ...           NaN               Main Road   \n",
       "187530        Resale  ...  North - East       Garden/Park, Pool   \n",
       "\n",
       "                                    Society Bathroom Balcony Car Parking  \\\n",
       "0       Srushti Siddhi Mangal Murti Complex        1       2         NaN   \n",
       "1                               Dosti Vihar        2     NaN      1 Open   \n",
       "2                      Sunrise by Kalpataru        2     NaN   1 Covered   \n",
       "3                                       NaN        1       1         NaN   \n",
       "4               TenX Habitat Raymond Realty        2     NaN   1 Covered   \n",
       "...                                     ...      ...     ...         ...   \n",
       "187526                    Bollywood Esencia        3       3   1 Covered   \n",
       "187527                   Sushma Urban Views        3     NaN   1 Covered   \n",
       "187528                    Bollywood Esencia        3       2  1 Covered,   \n",
       "187529                      Friends Enclave        2     NaN         NaN   \n",
       "187530                      Affinity Greens        4       4   1 Covered   \n",
       "\n",
       "                   Ownership Super Area Dimensions  Plot Area  \n",
       "0                        NaN        NaN        NaN        NaN  \n",
       "1                   Freehold        NaN        NaN        NaN  \n",
       "2                   Freehold        NaN        NaN        NaN  \n",
       "3                        NaN        NaN        NaN        NaN  \n",
       "4       Co-operative Society        NaN        NaN        NaN  \n",
       "...                      ...        ...        ...        ...  \n",
       "187526              Freehold  1953 sqft        NaN        NaN  \n",
       "187527                   NaN  1680 sqft        NaN        NaN  \n",
       "187528              Freehold        NaN        NaN        NaN  \n",
       "187529                   NaN   709 sqft        NaN        NaN  \n",
       "187530              Freehold  1915 sqft        NaN        NaN  \n",
       "\n",
       "[187531 rows x 21 columns]"
      ],
      "text/html": [
       "<div>\n",
       "<style scoped>\n",
       "    .dataframe tbody tr th:only-of-type {\n",
       "        vertical-align: middle;\n",
       "    }\n",
       "\n",
       "    .dataframe tbody tr th {\n",
       "        vertical-align: top;\n",
       "    }\n",
       "\n",
       "    .dataframe thead th {\n",
       "        text-align: right;\n",
       "    }\n",
       "</style>\n",
       "<table border=\"1\" class=\"dataframe\">\n",
       "  <thead>\n",
       "    <tr style=\"text-align: right;\">\n",
       "      <th></th>\n",
       "      <th>Index</th>\n",
       "      <th>Title</th>\n",
       "      <th>Description</th>\n",
       "      <th>Amount(in rupees)</th>\n",
       "      <th>Price (in rupees)</th>\n",
       "      <th>location</th>\n",
       "      <th>Carpet Area</th>\n",
       "      <th>Status</th>\n",
       "      <th>Floor</th>\n",
       "      <th>Transaction</th>\n",
       "      <th>...</th>\n",
       "      <th>facing</th>\n",
       "      <th>overlooking</th>\n",
       "      <th>Society</th>\n",
       "      <th>Bathroom</th>\n",
       "      <th>Balcony</th>\n",
       "      <th>Car Parking</th>\n",
       "      <th>Ownership</th>\n",
       "      <th>Super Area</th>\n",
       "      <th>Dimensions</th>\n",
       "      <th>Plot Area</th>\n",
       "    </tr>\n",
       "  </thead>\n",
       "  <tbody>\n",
       "    <tr>\n",
       "      <th>0</th>\n",
       "      <td>0</td>\n",
       "      <td>1 BHK Ready to Occupy Flat for sale in Srushti...</td>\n",
       "      <td>Bhiwandi, Thane has an attractive 1 BHK Flat f...</td>\n",
       "      <td>42 Lac</td>\n",
       "      <td>6000.0</td>\n",
       "      <td>thane</td>\n",
       "      <td>500 sqft</td>\n",
       "      <td>Ready to Move</td>\n",
       "      <td>10 out of 11</td>\n",
       "      <td>Resale</td>\n",
       "      <td>...</td>\n",
       "      <td>NaN</td>\n",
       "      <td>NaN</td>\n",
       "      <td>Srushti Siddhi Mangal Murti Complex</td>\n",
       "      <td>1</td>\n",
       "      <td>2</td>\n",
       "      <td>NaN</td>\n",
       "      <td>NaN</td>\n",
       "      <td>NaN</td>\n",
       "      <td>NaN</td>\n",
       "      <td>NaN</td>\n",
       "    </tr>\n",
       "    <tr>\n",
       "      <th>1</th>\n",
       "      <td>1</td>\n",
       "      <td>2 BHK Ready to Occupy Flat for sale in Dosti V...</td>\n",
       "      <td>One can find this stunning 2 BHK flat for sale...</td>\n",
       "      <td>98 Lac</td>\n",
       "      <td>13799.0</td>\n",
       "      <td>thane</td>\n",
       "      <td>473 sqft</td>\n",
       "      <td>Ready to Move</td>\n",
       "      <td>3 out of 22</td>\n",
       "      <td>Resale</td>\n",
       "      <td>...</td>\n",
       "      <td>East</td>\n",
       "      <td>Garden/Park</td>\n",
       "      <td>Dosti Vihar</td>\n",
       "      <td>2</td>\n",
       "      <td>NaN</td>\n",
       "      <td>1 Open</td>\n",
       "      <td>Freehold</td>\n",
       "      <td>NaN</td>\n",
       "      <td>NaN</td>\n",
       "      <td>NaN</td>\n",
       "    </tr>\n",
       "    <tr>\n",
       "      <th>2</th>\n",
       "      <td>2</td>\n",
       "      <td>2 BHK Ready to Occupy Flat for sale in Sunrise...</td>\n",
       "      <td>Up for immediate sale is a 2 BHK apartment in ...</td>\n",
       "      <td>1.40 Cr</td>\n",
       "      <td>17500.0</td>\n",
       "      <td>thane</td>\n",
       "      <td>779 sqft</td>\n",
       "      <td>Ready to Move</td>\n",
       "      <td>10 out of 29</td>\n",
       "      <td>Resale</td>\n",
       "      <td>...</td>\n",
       "      <td>East</td>\n",
       "      <td>Garden/Park</td>\n",
       "      <td>Sunrise by Kalpataru</td>\n",
       "      <td>2</td>\n",
       "      <td>NaN</td>\n",
       "      <td>1 Covered</td>\n",
       "      <td>Freehold</td>\n",
       "      <td>NaN</td>\n",
       "      <td>NaN</td>\n",
       "      <td>NaN</td>\n",
       "    </tr>\n",
       "    <tr>\n",
       "      <th>3</th>\n",
       "      <td>3</td>\n",
       "      <td>1 BHK Ready to Occupy Flat for sale Kasheli</td>\n",
       "      <td>This beautiful 1 BHK Flat is available for sal...</td>\n",
       "      <td>25 Lac</td>\n",
       "      <td>NaN</td>\n",
       "      <td>thane</td>\n",
       "      <td>530 sqft</td>\n",
       "      <td>Ready to Move</td>\n",
       "      <td>1 out of 3</td>\n",
       "      <td>Resale</td>\n",
       "      <td>...</td>\n",
       "      <td>NaN</td>\n",
       "      <td>NaN</td>\n",
       "      <td>NaN</td>\n",
       "      <td>1</td>\n",
       "      <td>1</td>\n",
       "      <td>NaN</td>\n",
       "      <td>NaN</td>\n",
       "      <td>NaN</td>\n",
       "      <td>NaN</td>\n",
       "      <td>NaN</td>\n",
       "    </tr>\n",
       "    <tr>\n",
       "      <th>4</th>\n",
       "      <td>4</td>\n",
       "      <td>2 BHK Ready to Occupy Flat for sale in TenX Ha...</td>\n",
       "      <td>This lovely 2 BHK Flat in Pokhran Road, Thane ...</td>\n",
       "      <td>1.60 Cr</td>\n",
       "      <td>18824.0</td>\n",
       "      <td>thane</td>\n",
       "      <td>635 sqft</td>\n",
       "      <td>Ready to Move</td>\n",
       "      <td>20 out of 42</td>\n",
       "      <td>Resale</td>\n",
       "      <td>...</td>\n",
       "      <td>West</td>\n",
       "      <td>Garden/Park, Main Road</td>\n",
       "      <td>TenX Habitat Raymond Realty</td>\n",
       "      <td>2</td>\n",
       "      <td>NaN</td>\n",
       "      <td>1 Covered</td>\n",
       "      <td>Co-operative Society</td>\n",
       "      <td>NaN</td>\n",
       "      <td>NaN</td>\n",
       "      <td>NaN</td>\n",
       "    </tr>\n",
       "    <tr>\n",
       "      <th>...</th>\n",
       "      <td>...</td>\n",
       "      <td>...</td>\n",
       "      <td>...</td>\n",
       "      <td>...</td>\n",
       "      <td>...</td>\n",
       "      <td>...</td>\n",
       "      <td>...</td>\n",
       "      <td>...</td>\n",
       "      <td>...</td>\n",
       "      <td>...</td>\n",
       "      <td>...</td>\n",
       "      <td>...</td>\n",
       "      <td>...</td>\n",
       "      <td>...</td>\n",
       "      <td>...</td>\n",
       "      <td>...</td>\n",
       "      <td>...</td>\n",
       "      <td>...</td>\n",
       "      <td>...</td>\n",
       "      <td>...</td>\n",
       "      <td>...</td>\n",
       "    </tr>\n",
       "    <tr>\n",
       "      <th>187526</th>\n",
       "      <td>187526</td>\n",
       "      <td>3 BHK Ready to Occupy Flat for sale in Bollywo...</td>\n",
       "      <td>This magnificent 3 BHK Flat is available for s...</td>\n",
       "      <td>63 Lac</td>\n",
       "      <td>3225.0</td>\n",
       "      <td>zirakpur</td>\n",
       "      <td>NaN</td>\n",
       "      <td>Ready to Move</td>\n",
       "      <td>2 out of 4</td>\n",
       "      <td>New Property</td>\n",
       "      <td>...</td>\n",
       "      <td>East</td>\n",
       "      <td>Garden/Park</td>\n",
       "      <td>Bollywood Esencia</td>\n",
       "      <td>3</td>\n",
       "      <td>3</td>\n",
       "      <td>1 Covered</td>\n",
       "      <td>Freehold</td>\n",
       "      <td>1953 sqft</td>\n",
       "      <td>NaN</td>\n",
       "      <td>NaN</td>\n",
       "    </tr>\n",
       "    <tr>\n",
       "      <th>187527</th>\n",
       "      <td>187527</td>\n",
       "      <td>3 BHK Ready to Occupy Flat for sale in Sushma ...</td>\n",
       "      <td>Have a look at this immaculate 3 BHK flat for ...</td>\n",
       "      <td>55 Lac</td>\n",
       "      <td>3274.0</td>\n",
       "      <td>zirakpur</td>\n",
       "      <td>NaN</td>\n",
       "      <td>Ready to Move</td>\n",
       "      <td>4 out of 6</td>\n",
       "      <td>Resale</td>\n",
       "      <td>...</td>\n",
       "      <td>North - East</td>\n",
       "      <td>Garden/Park, Main Road</td>\n",
       "      <td>Sushma Urban Views</td>\n",
       "      <td>3</td>\n",
       "      <td>NaN</td>\n",
       "      <td>1 Covered</td>\n",
       "      <td>NaN</td>\n",
       "      <td>1680 sqft</td>\n",
       "      <td>NaN</td>\n",
       "      <td>NaN</td>\n",
       "    </tr>\n",
       "    <tr>\n",
       "      <th>187528</th>\n",
       "      <td>187528</td>\n",
       "      <td>3 BHK Ready to Occupy Flat for sale in Bollywo...</td>\n",
       "      <td>Gazipur, Zirakpur has an appealing 3 BHK flat ...</td>\n",
       "      <td>76 Lac</td>\n",
       "      <td>4343.0</td>\n",
       "      <td>zirakpur</td>\n",
       "      <td>1250 sqft</td>\n",
       "      <td>Ready to Move</td>\n",
       "      <td>1 out of 3</td>\n",
       "      <td>Resale</td>\n",
       "      <td>...</td>\n",
       "      <td>East</td>\n",
       "      <td>Garden/Park, Main Road</td>\n",
       "      <td>Bollywood Esencia</td>\n",
       "      <td>3</td>\n",
       "      <td>2</td>\n",
       "      <td>1 Covered,</td>\n",
       "      <td>Freehold</td>\n",
       "      <td>NaN</td>\n",
       "      <td>NaN</td>\n",
       "      <td>NaN</td>\n",
       "    </tr>\n",
       "    <tr>\n",
       "      <th>187529</th>\n",
       "      <td>187529</td>\n",
       "      <td>2 BHK Ready to Occupy Flat for sale in Friends...</td>\n",
       "      <td>Up for immediate sale is a 2 BHK apartment in ...</td>\n",
       "      <td>30 Lac</td>\n",
       "      <td>4231.0</td>\n",
       "      <td>zirakpur</td>\n",
       "      <td>NaN</td>\n",
       "      <td>Ready to Move</td>\n",
       "      <td>2 out of 2</td>\n",
       "      <td>Resale</td>\n",
       "      <td>...</td>\n",
       "      <td>NaN</td>\n",
       "      <td>Main Road</td>\n",
       "      <td>Friends Enclave</td>\n",
       "      <td>2</td>\n",
       "      <td>NaN</td>\n",
       "      <td>NaN</td>\n",
       "      <td>NaN</td>\n",
       "      <td>709 sqft</td>\n",
       "      <td>NaN</td>\n",
       "      <td>NaN</td>\n",
       "    </tr>\n",
       "    <tr>\n",
       "      <th>187530</th>\n",
       "      <td>187530</td>\n",
       "      <td>3 BHK Ready to Occupy Flat for sale in Affinit...</td>\n",
       "      <td>This exquisite 3 BHK Flat is offered for sale ...</td>\n",
       "      <td>1.18 Cr</td>\n",
       "      <td>6162.0</td>\n",
       "      <td>zirakpur</td>\n",
       "      <td>NaN</td>\n",
       "      <td>Ready to Move</td>\n",
       "      <td>5 out of 13</td>\n",
       "      <td>Resale</td>\n",
       "      <td>...</td>\n",
       "      <td>North - East</td>\n",
       "      <td>Garden/Park, Pool</td>\n",
       "      <td>Affinity Greens</td>\n",
       "      <td>4</td>\n",
       "      <td>4</td>\n",
       "      <td>1 Covered</td>\n",
       "      <td>Freehold</td>\n",
       "      <td>1915 sqft</td>\n",
       "      <td>NaN</td>\n",
       "      <td>NaN</td>\n",
       "    </tr>\n",
       "  </tbody>\n",
       "</table>\n",
       "<p>187531 rows × 21 columns</p>\n",
       "</div>"
      ]
     },
     "execution_count": 3,
     "metadata": {},
     "output_type": "execute_result"
    }
   ],
   "execution_count": 3
  },
  {
   "metadata": {},
   "cell_type": "markdown",
   "source": "### Checking for null values",
   "id": "b5e6d72814c7d150"
  },
  {
   "metadata": {
    "ExecuteTime": {
     "end_time": "2025-05-24T05:20:11.130716Z",
     "start_time": "2025-05-24T05:20:10.983107Z"
    }
   },
   "cell_type": "code",
   "source": "df.isnull().sum()",
   "id": "91f43b08030cc93b",
   "outputs": [
    {
     "data": {
      "text/plain": [
       "Index                     0\n",
       "Title                     0\n",
       "Description            3023\n",
       "Amount(in rupees)         0\n",
       "Price (in rupees)     17665\n",
       "location                  0\n",
       "Carpet Area           80673\n",
       "Status                  615\n",
       "Floor                  7077\n",
       "Transaction              83\n",
       "Furnishing             2897\n",
       "facing                70233\n",
       "overlooking           81436\n",
       "Society              109678\n",
       "Bathroom                828\n",
       "Balcony               48935\n",
       "Car Parking          103357\n",
       "Ownership             65517\n",
       "Super Area           107685\n",
       "Dimensions           187531\n",
       "Plot Area            187531\n",
       "dtype: int64"
      ]
     },
     "execution_count": 4,
     "metadata": {},
     "output_type": "execute_result"
    }
   ],
   "execution_count": 4
  },
  {
   "metadata": {},
   "cell_type": "markdown",
   "source": "### DataFrame summary info",
   "id": "20ff67856707cadc"
  },
  {
   "metadata": {
    "ExecuteTime": {
     "end_time": "2025-05-24T05:20:11.707680Z",
     "start_time": "2025-05-24T05:20:11.582947Z"
    }
   },
   "cell_type": "code",
   "source": "df.info()",
   "id": "f9c96a07776511d0",
   "outputs": [
    {
     "name": "stdout",
     "output_type": "stream",
     "text": [
      "<class 'pandas.core.frame.DataFrame'>\n",
      "RangeIndex: 187531 entries, 0 to 187530\n",
      "Data columns (total 21 columns):\n",
      " #   Column             Non-Null Count   Dtype  \n",
      "---  ------             --------------   -----  \n",
      " 0   Index              187531 non-null  int64  \n",
      " 1   Title              187531 non-null  object \n",
      " 2   Description        184508 non-null  object \n",
      " 3   Amount(in rupees)  187531 non-null  object \n",
      " 4   Price (in rupees)  169866 non-null  float64\n",
      " 5   location           187531 non-null  object \n",
      " 6   Carpet Area        106858 non-null  object \n",
      " 7   Status             186916 non-null  object \n",
      " 8   Floor              180454 non-null  object \n",
      " 9   Transaction        187448 non-null  object \n",
      " 10  Furnishing         184634 non-null  object \n",
      " 11  facing             117298 non-null  object \n",
      " 12  overlooking        106095 non-null  object \n",
      " 13  Society            77853 non-null   object \n",
      " 14  Bathroom           186703 non-null  object \n",
      " 15  Balcony            138596 non-null  object \n",
      " 16  Car Parking        84174 non-null   object \n",
      " 17  Ownership          122014 non-null  object \n",
      " 18  Super Area         79846 non-null   object \n",
      " 19  Dimensions         0 non-null       float64\n",
      " 20  Plot Area          0 non-null       float64\n",
      "dtypes: float64(3), int64(1), object(17)\n",
      "memory usage: 30.0+ MB\n"
     ]
    }
   ],
   "execution_count": 5
  },
  {
   "metadata": {},
   "cell_type": "markdown",
   "source": "### Statistical measure of Numerical data",
   "id": "90224d961d4ae467"
  },
  {
   "metadata": {
    "ExecuteTime": {
     "end_time": "2025-05-24T05:20:12.665242Z",
     "start_time": "2025-05-24T05:20:12.577282Z"
    }
   },
   "cell_type": "code",
   "source": "df.describe()",
   "id": "b1226147a7099b82",
   "outputs": [
    {
     "data": {
      "text/plain": [
       "               Index  Price (in rupees)  Dimensions  Plot Area\n",
       "count  187531.000000       1.698660e+05         0.0        0.0\n",
       "mean    93765.000000       7.583772e+03         NaN        NaN\n",
       "std     54135.681003       2.724171e+04         NaN        NaN\n",
       "min         0.000000       0.000000e+00         NaN        NaN\n",
       "25%     46882.500000       4.297000e+03         NaN        NaN\n",
       "50%     93765.000000       6.034000e+03         NaN        NaN\n",
       "75%    140647.500000       9.450000e+03         NaN        NaN\n",
       "max    187530.000000       6.700000e+06         NaN        NaN"
      ],
      "text/html": [
       "<div>\n",
       "<style scoped>\n",
       "    .dataframe tbody tr th:only-of-type {\n",
       "        vertical-align: middle;\n",
       "    }\n",
       "\n",
       "    .dataframe tbody tr th {\n",
       "        vertical-align: top;\n",
       "    }\n",
       "\n",
       "    .dataframe thead th {\n",
       "        text-align: right;\n",
       "    }\n",
       "</style>\n",
       "<table border=\"1\" class=\"dataframe\">\n",
       "  <thead>\n",
       "    <tr style=\"text-align: right;\">\n",
       "      <th></th>\n",
       "      <th>Index</th>\n",
       "      <th>Price (in rupees)</th>\n",
       "      <th>Dimensions</th>\n",
       "      <th>Plot Area</th>\n",
       "    </tr>\n",
       "  </thead>\n",
       "  <tbody>\n",
       "    <tr>\n",
       "      <th>count</th>\n",
       "      <td>187531.000000</td>\n",
       "      <td>1.698660e+05</td>\n",
       "      <td>0.0</td>\n",
       "      <td>0.0</td>\n",
       "    </tr>\n",
       "    <tr>\n",
       "      <th>mean</th>\n",
       "      <td>93765.000000</td>\n",
       "      <td>7.583772e+03</td>\n",
       "      <td>NaN</td>\n",
       "      <td>NaN</td>\n",
       "    </tr>\n",
       "    <tr>\n",
       "      <th>std</th>\n",
       "      <td>54135.681003</td>\n",
       "      <td>2.724171e+04</td>\n",
       "      <td>NaN</td>\n",
       "      <td>NaN</td>\n",
       "    </tr>\n",
       "    <tr>\n",
       "      <th>min</th>\n",
       "      <td>0.000000</td>\n",
       "      <td>0.000000e+00</td>\n",
       "      <td>NaN</td>\n",
       "      <td>NaN</td>\n",
       "    </tr>\n",
       "    <tr>\n",
       "      <th>25%</th>\n",
       "      <td>46882.500000</td>\n",
       "      <td>4.297000e+03</td>\n",
       "      <td>NaN</td>\n",
       "      <td>NaN</td>\n",
       "    </tr>\n",
       "    <tr>\n",
       "      <th>50%</th>\n",
       "      <td>93765.000000</td>\n",
       "      <td>6.034000e+03</td>\n",
       "      <td>NaN</td>\n",
       "      <td>NaN</td>\n",
       "    </tr>\n",
       "    <tr>\n",
       "      <th>75%</th>\n",
       "      <td>140647.500000</td>\n",
       "      <td>9.450000e+03</td>\n",
       "      <td>NaN</td>\n",
       "      <td>NaN</td>\n",
       "    </tr>\n",
       "    <tr>\n",
       "      <th>max</th>\n",
       "      <td>187530.000000</td>\n",
       "      <td>6.700000e+06</td>\n",
       "      <td>NaN</td>\n",
       "      <td>NaN</td>\n",
       "    </tr>\n",
       "  </tbody>\n",
       "</table>\n",
       "</div>"
      ]
     },
     "execution_count": 6,
     "metadata": {},
     "output_type": "execute_result"
    }
   ],
   "execution_count": 6
  },
  {
   "metadata": {},
   "cell_type": "markdown",
   "source": "### Changing the Datatype of Index",
   "id": "8e3621ebfecb1fe7"
  },
  {
   "metadata": {
    "ExecuteTime": {
     "end_time": "2025-05-24T05:20:12.808790Z",
     "start_time": "2025-05-24T05:20:12.748663Z"
    }
   },
   "cell_type": "code",
   "source": "df[\"Index\"]=df[\"Index\"].astype(str)",
   "id": "2fca01270e184358",
   "outputs": [],
   "execution_count": 7
  },
  {
   "metadata": {},
   "cell_type": "markdown",
   "source": "### Extracting the column BHK from Title",
   "id": "8293d809b27b0ab2"
  },
  {
   "metadata": {
    "ExecuteTime": {
     "end_time": "2025-05-24T05:20:18.949446Z",
     "start_time": "2025-05-24T05:20:13.020360Z"
    }
   },
   "cell_type": "code",
   "source": [
    "df[\"BHK\"] = None\n",
    "for i in range(len(df)):\n",
    "    df.at[i, \"BHK\"] = df[\"Title\"][i][0]"
   ],
   "id": "a40246f6870d43ab",
   "outputs": [],
   "execution_count": 8
  },
  {
   "metadata": {
    "ExecuteTime": {
     "end_time": "2025-05-24T05:20:19.006027Z",
     "start_time": "2025-05-24T05:20:18.993923Z"
    }
   },
   "cell_type": "code",
   "source": "df[\"BHK\"].unique()",
   "id": "7f6f2ce1e4ca8f79",
   "outputs": [
    {
     "data": {
      "text/plain": [
       "array(['1', '2', '3', '4', '5', ' ', '6', '8', '7', '>', '9'],\n",
       "      dtype=object)"
      ]
     },
     "execution_count": 9,
     "metadata": {},
     "output_type": "execute_result"
    }
   ],
   "execution_count": 9
  },
  {
   "metadata": {},
   "cell_type": "markdown",
   "source": "### replacing empty space and symbol with mode",
   "id": "732ee7d6970727c6"
  },
  {
   "metadata": {
    "ExecuteTime": {
     "end_time": "2025-05-24T05:20:19.122167Z",
     "start_time": "2025-05-24T05:20:19.104635Z"
    }
   },
   "cell_type": "code",
   "source": "mode=df[\"BHK\"].mode()[0]",
   "id": "62905c6988436b6",
   "outputs": [],
   "execution_count": 10
  },
  {
   "metadata": {
    "ExecuteTime": {
     "end_time": "2025-05-24T05:20:19.207958Z",
     "start_time": "2025-05-24T05:20:19.159806Z"
    }
   },
   "cell_type": "code",
   "source": [
    "df[\"BHK\"] = df[\"BHK\"].replace([\" \", \">\"], pd.NA)\n",
    "mode = df[\"BHK\"].mode()[0]\n",
    "df[\"BHK\"] = df[\"BHK\"].fillna(mode)\n"
   ],
   "id": "57b07485d4100215",
   "outputs": [],
   "execution_count": 11
  },
  {
   "metadata": {
    "ExecuteTime": {
     "end_time": "2025-05-24T05:20:19.247946Z",
     "start_time": "2025-05-24T05:20:19.236897Z"
    }
   },
   "cell_type": "code",
   "source": "df[\"BHK\"].unique()",
   "id": "7729c7febd13e376",
   "outputs": [
    {
     "data": {
      "text/plain": [
       "array(['1', '2', '3', '4', '5', '6', '8', '7', '9'], dtype=object)"
      ]
     },
     "execution_count": 12,
     "metadata": {},
     "output_type": "execute_result"
    }
   ],
   "execution_count": 12
  },
  {
   "metadata": {
    "ExecuteTime": {
     "end_time": "2025-05-24T05:20:19.343197Z",
     "start_time": "2025-05-24T05:20:19.322120Z"
    }
   },
   "cell_type": "code",
   "source": "df[\"BHK\"]=df[\"BHK\"].astype(int)",
   "id": "6d6ed2bfb4586de",
   "outputs": [],
   "execution_count": 13
  },
  {
   "metadata": {},
   "cell_type": "markdown",
   "source": "### Removing the outliers in BHK",
   "id": "bbed8c60e1df432b"
  },
  {
   "metadata": {
    "ExecuteTime": {
     "end_time": "2025-05-24T05:20:19.759998Z",
     "start_time": "2025-05-24T05:20:19.389612Z"
    }
   },
   "cell_type": "code",
   "source": [
    "sns.boxplot(x=df['BHK'])\n",
    "plt.show()"
   ],
   "id": "b4f249d50af09898",
   "outputs": [
    {
     "data": {
      "text/plain": [
       "<Figure size 640x480 with 1 Axes>"
      ],
      "image/png": "[encoded data removed]"
     },
     "metadata": {},
     "output_type": "display_data"
    }
   ],
   "execution_count": 14
  },
  {
   "metadata": {
    "ExecuteTime": {
     "end_time": "2025-05-24T05:20:19.792048Z",
     "start_time": "2025-05-24T05:20:19.780393Z"
    }
   },
   "cell_type": "code",
   "source": [
    "q1_bhk=df[\"BHK\"].quantile(0.01)\n",
    "q3_bhk=df[\"BHK\"].quantile(0.99)\n",
    "q1_bhk,q3_bhk"
   ],
   "id": "4b8bed13edb37d6f",
   "outputs": [
    {
     "data": {
      "text/plain": [
       "(np.float64(1.0), np.float64(4.0))"
      ]
     },
     "execution_count": 15,
     "metadata": {},
     "output_type": "execute_result"
    }
   ],
   "execution_count": 15
  },
  {
   "metadata": {
    "ExecuteTime": {
     "end_time": "2025-05-24T05:20:19.857079Z",
     "start_time": "2025-05-24T05:20:19.848301Z"
    }
   },
   "cell_type": "code",
   "source": "df[\"BHK\"]=np.where(df[\"BHK\"]<q1_bhk,q1_bhk,np.where(df[\"BHK\"]>q3_bhk,q3_bhk,df[\"BHK\"]))\n",
   "id": "8d730ebe8a0930bb",
   "outputs": [],
   "execution_count": 16
  },
  {
   "metadata": {
    "ExecuteTime": {
     "end_time": "2025-05-24T05:20:20.224262Z",
     "start_time": "2025-05-24T05:20:19.916597Z"
    }
   },
   "cell_type": "code",
   "source": [
    "sns.boxplot(x=df['BHK'])\n",
    "plt.show()"
   ],
   "id": "9dd3b30c48d682c0",
   "outputs": [
    {
     "data": {
      "text/plain": [
       "<Figure size 640x480 with 1 Axes>"
      ],
      "image/png": "[encoded data removed]"
     },
     "metadata": {},
     "output_type": "display_data"
    }
   ],
   "execution_count": 17
  },
  {
   "metadata": {
    "ExecuteTime": {
     "end_time": "2025-05-24T05:20:20.277242Z",
     "start_time": "2025-05-24T05:20:20.269038Z"
    }
   },
   "cell_type": "code",
   "source": "df[\"BHK\"].unique()",
   "id": "bdbdde7d2b7bb703",
   "outputs": [
    {
     "data": {
      "text/plain": [
       "array([1., 2., 3., 4.])"
      ]
     },
     "execution_count": 18,
     "metadata": {},
     "output_type": "execute_result"
    }
   ],
   "execution_count": 18
  },
  {
   "metadata": {
    "ExecuteTime": {
     "end_time": "2025-05-24T05:20:20.357275Z",
     "start_time": "2025-05-24T05:20:20.349859Z"
    }
   },
   "cell_type": "code",
   "source": "df[\"BHK\"]=df[\"BHK\"].astype(int)",
   "id": "47a71323e0149743",
   "outputs": [],
   "execution_count": 19
  },
  {
   "metadata": {},
   "cell_type": "markdown",
   "source": "### Filling the null values in Description",
   "id": "efe3c0d6f3ef6170"
  },
  {
   "metadata": {
    "ExecuteTime": {
     "end_time": "2025-05-24T05:20:20.450759Z",
     "start_time": "2025-05-24T05:20:20.420340Z"
    }
   },
   "cell_type": "code",
   "source": "df[\"Description\"]=df[\"Description\"].fillna(\"Not_available\")",
   "id": "89fe2ae5616af847",
   "outputs": [],
   "execution_count": 20
  },
  {
   "metadata": {},
   "cell_type": "markdown",
   "source": "### Handling missing values in Amount column",
   "id": "f843a79ba8f05dcb"
  },
  {
   "metadata": {
    "ExecuteTime": {
     "end_time": "2025-05-24T05:20:20.506343Z",
     "start_time": "2025-05-24T05:20:20.475081Z"
    }
   },
   "cell_type": "code",
   "source": [
    "c=0\n",
    "for i in df['Amount(in rupees)']:\n",
    "   if i==\"Call for Price\":\n",
    "     c+=1\n",
    "print(c)"
   ],
   "id": "1712e0d83b845919",
   "outputs": [
    {
     "name": "stdout",
     "output_type": "stream",
     "text": [
      "9684\n"
     ]
    }
   ],
   "execution_count": 21
  },
  {
   "metadata": {
    "ExecuteTime": {
     "end_time": "2025-05-24T05:20:20.576146Z",
     "start_time": "2025-05-24T05:20:20.572058Z"
    }
   },
   "cell_type": "code",
   "source": [
    "def convert(x):\n",
    "    try:\n",
    "        x = str(x).lower().strip()\n",
    "        if \"call for price\" in x:\n",
    "            return np.nan\n",
    "        x = x.replace(',', '')\n",
    "        if \"lac\" in x:\n",
    "            return float(x.replace(\"lac\", \"\")) * 100000\n",
    "        elif \"cr\" in x:\n",
    "            return float(x.replace(\"cr\", \"\")) * 10000000\n",
    "        else:\n",
    "            return float(x)\n",
    "    except ValueError:\n",
    "        return np.nan"
   ],
   "id": "ad2f2c08815b7e07",
   "outputs": [],
   "execution_count": 22
  },
  {
   "metadata": {
    "ExecuteTime": {
     "end_time": "2025-05-24T05:20:20.731736Z",
     "start_time": "2025-05-24T05:20:20.609127Z"
    }
   },
   "cell_type": "code",
   "source": "df[\"Amount(in rupees)\"] = df[\"Amount(in rupees)\"].apply(convert)",
   "id": "8ebf57723ea002d6",
   "outputs": [],
   "execution_count": 23
  },
  {
   "metadata": {
    "ExecuteTime": {
     "end_time": "2025-05-24T05:20:20.775913Z",
     "start_time": "2025-05-24T05:20:20.760272Z"
    }
   },
   "cell_type": "code",
   "source": [
    "median_value = df['Amount(in rupees)'].median()\n",
    "df['Amount(in rupees)'] = df['Amount(in rupees)'].fillna(median_value)"
   ],
   "id": "79ad49dc80cf6663",
   "outputs": [],
   "execution_count": 24
  },
  {
   "metadata": {
    "ExecuteTime": {
     "end_time": "2025-05-24T05:20:20.804122Z",
     "start_time": "2025-05-24T05:20:20.796559Z"
    }
   },
   "cell_type": "code",
   "source": "df[\"Amount(in rupees)\"]=df[\"Amount(in rupees)\"].astype(int)",
   "id": "cf26bcdb95fbc081",
   "outputs": [],
   "execution_count": 25
  },
  {
   "metadata": {},
   "cell_type": "markdown",
   "source": "### Handling outliers in Amount column",
   "id": "cda3c60ebc80cfb4"
  },
  {
   "metadata": {
    "ExecuteTime": {
     "end_time": "2025-05-24T05:20:21.117860Z",
     "start_time": "2025-05-24T05:20:20.826914Z"
    }
   },
   "cell_type": "code",
   "source": [
    "sns.boxplot(x=df['Amount(in rupees)'])\n",
    "plt.show()"
   ],
   "id": "44e69a12d6110684",
   "outputs": [
    {
     "data": {
      "text/plain": [
       "<Figure size 640x480 with 1 Axes>"
      ],
      "image/png": "[encoded data removed]"
     },
     "metadata": {},
     "output_type": "display_data"
    }
   ],
   "execution_count": 26
  },
  {
   "metadata": {
    "ExecuteTime": {
     "end_time": "2025-05-24T05:20:21.168808Z",
     "start_time": "2025-05-24T05:20:21.156085Z"
    }
   },
   "cell_type": "code",
   "source": [
    "q3_amount=df[\"Amount(in rupees)\"].quantile(0.75)\n",
    "q1_amount=df[\"Amount(in rupees)\"].quantile(0.25)\n",
    "iqr_amount=q3_amount-q1_amount\n",
    "min_amount=max(0, q1_amount - 1.5 * iqr_amount)\n",
    "max_amount=q3_amount+1.5*iqr_amount"
   ],
   "id": "8a455ec308e59d39",
   "outputs": [],
   "execution_count": 27
  },
  {
   "metadata": {
    "ExecuteTime": {
     "end_time": "2025-05-24T05:20:21.231943Z",
     "start_time": "2025-05-24T05:20:21.222819Z"
    }
   },
   "cell_type": "code",
   "source": "df[\"Amount(in rupees)\"]=np.where(df[\"Amount(in rupees)\"]<min_amount,min_amount,np.where(df[\"Amount(in rupees)\"]>max_amount,max_amount,df[\"Amount(in rupees)\"]))",
   "id": "40f4bafe6b311ebb",
   "outputs": [],
   "execution_count": 28
  },
  {
   "metadata": {
    "ExecuteTime": {
     "end_time": "2025-05-24T05:20:21.575385Z",
     "start_time": "2025-05-24T05:20:21.280259Z"
    }
   },
   "cell_type": "code",
   "source": [
    "sns.boxplot(x=df['Amount(in rupees)'])\n",
    "plt.show()"
   ],
   "id": "f04ca2486531f9e2",
   "outputs": [
    {
     "data": {
      "text/plain": [
       "<Figure size 640x480 with 1 Axes>"
      ],
      "image/png": "[encoded data removed]"
     },
     "metadata": {},
     "output_type": "display_data"
    }
   ],
   "execution_count": 29
  },
  {
   "metadata": {},
   "cell_type": "markdown",
   "source": "### Droping the Price column",
   "id": "61beedc769431243"
  },
  {
   "metadata": {
    "ExecuteTime": {
     "end_time": "2025-05-24T05:20:21.659625Z",
     "start_time": "2025-05-24T05:20:21.597100Z"
    }
   },
   "cell_type": "code",
   "source": "df = df.drop('Price (in rupees)', axis=1)",
   "id": "f1e5833fca5469f",
   "outputs": [],
   "execution_count": 30
  },
  {
   "metadata": {},
   "cell_type": "markdown",
   "source": "### Droping the column carpet area",
   "id": "3a6d9caa96bcdff3"
  },
  {
   "metadata": {
    "ExecuteTime": {
     "end_time": "2025-05-24T05:20:21.741475Z",
     "start_time": "2025-05-24T05:20:21.682277Z"
    }
   },
   "cell_type": "code",
   "source": "df=df.drop(\"Carpet Area\",axis=1)",
   "id": "66451d61a7b5e0af",
   "outputs": [],
   "execution_count": 31
  },
  {
   "metadata": {},
   "cell_type": "markdown",
   "source": "### Filling the missing value in status",
   "id": "4d32a435957c15bc"
  },
  {
   "metadata": {
    "ExecuteTime": {
     "end_time": "2025-05-24T05:20:21.776052Z",
     "start_time": "2025-05-24T05:20:21.762104Z"
    }
   },
   "cell_type": "code",
   "source": "df[\"Status\"].unique()",
   "id": "53e1bbd08351664b",
   "outputs": [
    {
     "data": {
      "text/plain": [
       "array(['Ready to Move', nan], dtype=object)"
      ]
     },
     "execution_count": 32,
     "metadata": {},
     "output_type": "execute_result"
    }
   ],
   "execution_count": 32
  },
  {
   "metadata": {
    "ExecuteTime": {
     "end_time": "2025-05-24T05:20:21.881685Z",
     "start_time": "2025-05-24T05:20:21.867670Z"
    }
   },
   "cell_type": "code",
   "source": "df[\"Status\"]=df[\"Status\"].fillna(\"Under_construction\")",
   "id": "df0f6f856e27a23f",
   "outputs": [],
   "execution_count": 33
  },
  {
   "metadata": {
    "ExecuteTime": {
     "end_time": "2025-05-24T05:20:21.948078Z",
     "start_time": "2025-05-24T05:20:21.931688Z"
    }
   },
   "cell_type": "code",
   "source": "df[\"Status\"].unique()",
   "id": "39f0aa4d7b0d92f5",
   "outputs": [
    {
     "data": {
      "text/plain": [
       "array(['Ready to Move', 'Under_construction'], dtype=object)"
      ]
     },
     "execution_count": 34,
     "metadata": {},
     "output_type": "execute_result"
    }
   ],
   "execution_count": 34
  },
  {
   "metadata": {},
   "cell_type": "markdown",
   "source": "### Removing  floor column\n",
   "id": "56546c054631eb0"
  },
  {
   "metadata": {
    "ExecuteTime": {
     "end_time": "2025-05-24T05:20:22.086401Z",
     "start_time": "2025-05-24T05:20:22.025595Z"
    }
   },
   "cell_type": "code",
   "source": "df=df.drop(\"Floor\",axis=1)",
   "id": "6fb22ffc74cd0aa8",
   "outputs": [],
   "execution_count": 35
  },
  {
   "metadata": {},
   "cell_type": "markdown",
   "source": "### Filling the missing value in Transaction",
   "id": "2b49010d92d07122"
  },
  {
   "metadata": {
    "ExecuteTime": {
     "end_time": "2025-05-24T05:20:22.140298Z",
     "start_time": "2025-05-24T05:20:22.110935Z"
    }
   },
   "cell_type": "code",
   "source": "df[\"Transaction\"]=df[\"Transaction\"].fillna(df[\"Transaction\"].mode()[0])",
   "id": "d3d9e049e07b882d",
   "outputs": [],
   "execution_count": 36
  },
  {
   "metadata": {},
   "cell_type": "markdown",
   "source": "### Filling the missing value in Furnishing",
   "id": "8cf254909fa0e6b5"
  },
  {
   "metadata": {
    "ExecuteTime": {
     "end_time": "2025-05-24T05:20:22.193131Z",
     "start_time": "2025-05-24T05:20:22.161169Z"
    }
   },
   "cell_type": "code",
   "source": "df[\"Furnishing\"]=df[\"Furnishing\"].fillna(df[\"Furnishing\"].mode()[0])",
   "id": "7e6c02343e957ff7",
   "outputs": [],
   "execution_count": 37
  },
  {
   "metadata": {},
   "cell_type": "markdown",
   "source": "### Droping unnecessary columns",
   "id": "f751343a944a74c"
  },
  {
   "metadata": {
    "ExecuteTime": {
     "end_time": "2025-05-24T05:20:22.500667Z",
     "start_time": "2025-05-24T05:20:22.212387Z"
    }
   },
   "cell_type": "code",
   "source": [
    "arr=[\"Plot Area\",'Dimensions','Society','Super Area','Car Parking','overlooking','facing']\n",
    "for i in arr:\n",
    "    if i in df.columns:\n",
    "       df=df.drop(i,axis=1)"
   ],
   "id": "41e69644766013b4",
   "outputs": [],
   "execution_count": 38
  },
  {
   "metadata": {},
   "cell_type": "markdown",
   "source": "### Filling the missing values in Ownership",
   "id": "c18b6d4473be4d88"
  },
  {
   "metadata": {
    "ExecuteTime": {
     "end_time": "2025-05-24T05:20:22.533603Z",
     "start_time": "2025-05-24T05:20:22.522271Z"
    }
   },
   "cell_type": "code",
   "source": "df[\"Ownership\"].unique()",
   "id": "9b7dad7aee2e3346",
   "outputs": [
    {
     "data": {
      "text/plain": [
       "array([nan, 'Freehold', 'Co-operative Society', 'Power Of Attorney',\n",
       "       'Leasehold'], dtype=object)"
      ]
     },
     "execution_count": 39,
     "metadata": {},
     "output_type": "execute_result"
    }
   ],
   "execution_count": 39
  },
  {
   "metadata": {
    "ExecuteTime": {
     "end_time": "2025-05-24T05:20:22.672792Z",
     "start_time": "2025-05-24T05:20:22.636143Z"
    }
   },
   "cell_type": "code",
   "source": "df[\"Ownership\"]=df[\"Ownership\"].fillna(df[\"Ownership\"].mode()[0])",
   "id": "ae6b138924af8814",
   "outputs": [],
   "execution_count": 40
  },
  {
   "metadata": {},
   "cell_type": "markdown",
   "source": "### Filling missing values in Bathroom",
   "id": "7c7afd3feef80168"
  },
  {
   "metadata": {
    "ExecuteTime": {
     "end_time": "2025-05-24T05:20:22.712649Z",
     "start_time": "2025-05-24T05:20:22.702870Z"
    }
   },
   "cell_type": "code",
   "source": "df[\"Bathroom\"].unique()",
   "id": "3f6e2860b76fe201",
   "outputs": [
    {
     "data": {
      "text/plain": [
       "array(['1', '2', '3', '4', '6', nan, '5', '10', '9', '8', '> 10', '7'],\n",
       "      dtype=object)"
      ]
     },
     "execution_count": 41,
     "metadata": {},
     "output_type": "execute_result"
    }
   ],
   "execution_count": 41
  },
  {
   "metadata": {
    "ExecuteTime": {
     "end_time": "2025-05-24T05:20:22.840774Z",
     "start_time": "2025-05-24T05:20:22.796036Z"
    }
   },
   "cell_type": "code",
   "source": [
    "df[\"Bathroom\"]=df[\"Bathroom\"].replace(\"> 10\",\"10\")\n",
    "df[\"Bathroom\"]=df[\"Bathroom\"].fillna(df[\"Bathroom\"].mode()[0])"
   ],
   "id": "70303c3ebec7d8ed",
   "outputs": [],
   "execution_count": 42
  },
  {
   "metadata": {},
   "cell_type": "markdown",
   "source": "### Changing bathroom datatype",
   "id": "14d9fe8efc72a2d"
  },
  {
   "metadata": {
    "ExecuteTime": {
     "end_time": "2025-05-24T05:20:22.893310Z",
     "start_time": "2025-05-24T05:20:22.865854Z"
    }
   },
   "cell_type": "code",
   "source": "df[\"Bathroom\"]=df[\"Bathroom\"].astype(int)",
   "id": "f7f0320dabffa716",
   "outputs": [],
   "execution_count": 43
  },
  {
   "metadata": {},
   "cell_type": "markdown",
   "source": "### Treating outlier in the Bathroom column",
   "id": "71b40c6d888d7868"
  },
  {
   "metadata": {
    "ExecuteTime": {
     "end_time": "2025-05-24T05:20:23.218610Z",
     "start_time": "2025-05-24T05:20:22.926559Z"
    }
   },
   "cell_type": "code",
   "source": [
    "sns.boxplot(x=df['Bathroom'])\n",
    "plt.show()"
   ],
   "id": "53781075fc848799",
   "outputs": [
    {
     "data": {
      "text/plain": [
       "<Figure size 640x480 with 1 Axes>"
      ],
      "image/png": "[encoded data removed]"
     },
     "metadata": {},
     "output_type": "display_data"
    }
   ],
   "execution_count": 44
  },
  {
   "metadata": {
    "ExecuteTime": {
     "end_time": "2025-05-24T05:20:23.250757Z",
     "start_time": "2025-05-24T05:20:23.238217Z"
    }
   },
   "cell_type": "code",
   "source": [
    "q1_bath=df[\"Bathroom\"].quantile(0.25)\n",
    "q3_bath=df[\"Bathroom\"].quantile(0.75)\n",
    "iqr_bath=q3_bath-q1_bath\n",
    "min_bath=q1_bath-1.5*iqr_bath\n",
    "max_bath=q3_bath+1.5*iqr_bath\n",
    "min_bath=min_bath.astype(int)\n",
    "max_bath=max_bath.astype(int)"
   ],
   "id": "c336af34f45df1d1",
   "outputs": [],
   "execution_count": 45
  },
  {
   "metadata": {
    "ExecuteTime": {
     "end_time": "2025-05-24T05:20:23.290697Z",
     "start_time": "2025-05-24T05:20:23.282391Z"
    }
   },
   "cell_type": "code",
   "source": [
    "df[\"Bathroom\"]=np.where(df[\"Bathroom\"]<min_bath,min_bath\n",
    "                        ,np.where(df[\"Bathroom\"]>max_bath,max_bath,df[\"Bathroom\"]))"
   ],
   "id": "524a0bad74f3240c",
   "outputs": [],
   "execution_count": 46
  },
  {
   "metadata": {
    "ExecuteTime": {
     "end_time": "2025-05-24T05:20:23.607486Z",
     "start_time": "2025-05-24T05:20:23.337931Z"
    }
   },
   "cell_type": "code",
   "source": [
    "sns.boxplot(x=df['Bathroom'])\n",
    "plt.show()"
   ],
   "id": "829d5432e19d5420",
   "outputs": [
    {
     "data": {
      "text/plain": [
       "<Figure size 640x480 with 1 Axes>"
      ],
      "image/png": "[encoded data removed]"
     },
     "metadata": {},
     "output_type": "display_data"
    }
   ],
   "execution_count": 47
  },
  {
   "metadata": {
    "ExecuteTime": {
     "end_time": "2025-05-24T05:20:23.656936Z",
     "start_time": "2025-05-24T05:20:23.645726Z"
    }
   },
   "cell_type": "code",
   "source": "df[\"Bathroom\"].unique()",
   "id": "f42953aedded0f28",
   "outputs": [
    {
     "data": {
      "text/plain": [
       "array([1, 2, 3, 4])"
      ]
     },
     "execution_count": 48,
     "metadata": {},
     "output_type": "execute_result"
    }
   ],
   "execution_count": 48
  },
  {
   "metadata": {},
   "cell_type": "markdown",
   "source": "### Filling the missing value in balcony",
   "id": "439251dc18c8860d"
  },
  {
   "metadata": {
    "ExecuteTime": {
     "end_time": "2025-05-24T05:20:23.733451Z",
     "start_time": "2025-05-24T05:20:23.724868Z"
    }
   },
   "cell_type": "code",
   "source": "df[\"Balcony\"].unique()",
   "id": "c1647ee41d12a35",
   "outputs": [
    {
     "data": {
      "text/plain": [
       "array(['2', nan, '1', '3', '4', '> 10', '6', '5', '7', '10', '8', '9'],\n",
       "      dtype=object)"
      ]
     },
     "execution_count": 49,
     "metadata": {},
     "output_type": "execute_result"
    }
   ],
   "execution_count": 49
  },
  {
   "metadata": {
    "ExecuteTime": {
     "end_time": "2025-05-24T05:20:23.870823Z",
     "start_time": "2025-05-24T05:20:23.829848Z"
    }
   },
   "cell_type": "code",
   "source": [
    "df[\"Balcony\"]=df[\"Balcony\"].replace(\"> 10\",\"10\")\n",
    "df[\"Balcony\"]=df[\"Balcony\"].fillna(df[\"Balcony\"].mode()[0])"
   ],
   "id": "44c7c9fbb1078f18",
   "outputs": [],
   "execution_count": 50
  },
  {
   "metadata": {
    "ExecuteTime": {
     "end_time": "2025-05-24T05:20:23.902771Z",
     "start_time": "2025-05-24T05:20:23.891482Z"
    }
   },
   "cell_type": "code",
   "source": "df[\"Balcony\"].unique()",
   "id": "eaf925c72daf73c1",
   "outputs": [
    {
     "data": {
      "text/plain": [
       "array(['2', '1', '3', '4', '10', '6', '5', '7', '8', '9'], dtype=object)"
      ]
     },
     "execution_count": 51,
     "metadata": {},
     "output_type": "execute_result"
    }
   ],
   "execution_count": 51
  },
  {
   "metadata": {},
   "cell_type": "markdown",
   "source": "### Changing the balcony column datatype",
   "id": "192c881692451622"
  },
  {
   "metadata": {
    "ExecuteTime": {
     "end_time": "2025-05-24T05:20:24.003077Z",
     "start_time": "2025-05-24T05:20:23.986760Z"
    }
   },
   "cell_type": "code",
   "source": "df[\"Balcony\"]=df[\"Balcony\"].astype(int)",
   "id": "f88d5ae0f34de790",
   "outputs": [],
   "execution_count": 52
  },
  {
   "metadata": {},
   "cell_type": "markdown",
   "source": "### Removing outlier in balcony",
   "id": "ba569ab7ae03198e"
  },
  {
   "metadata": {
    "ExecuteTime": {
     "end_time": "2025-05-24T05:20:24.331327Z",
     "start_time": "2025-05-24T05:20:24.035420Z"
    }
   },
   "cell_type": "code",
   "source": [
    "sns.boxplot(x=df['Balcony'])\n",
    "plt.show()"
   ],
   "id": "498740546eeee613",
   "outputs": [
    {
     "data": {
      "text/plain": [
       "<Figure size 640x480 with 1 Axes>"
      ],
      "image/png": "[encoded data removed]"
     },
     "metadata": {},
     "output_type": "display_data"
    }
   ],
   "execution_count": 53
  },
  {
   "metadata": {
    "ExecuteTime": {
     "end_time": "2025-05-24T05:20:24.386595Z",
     "start_time": "2025-05-24T05:20:24.372125Z"
    }
   },
   "cell_type": "code",
   "source": [
    "q1_bal=df[\"Balcony\"].quantile(0.25)\n",
    "q3_bal=df[\"Balcony\"].quantile(0.75)\n",
    "iqr_bal=q3_bal-q1_bal\n",
    "min_bal=q1_bal-1.5*iqr_bal\n",
    "max_bal=q3_bal+1.5*iqr_bal\n",
    "min_bal=min_bal.astype(int)\n",
    "max_bal=max_bal.astype(int)"
   ],
   "id": "5a9aea2699ee1ce3",
   "outputs": [],
   "execution_count": 54
  },
  {
   "metadata": {
    "ExecuteTime": {
     "end_time": "2025-05-24T05:20:24.439260Z",
     "start_time": "2025-05-24T05:20:24.430145Z"
    }
   },
   "cell_type": "code",
   "source": [
    "df[\"Balcony\"]=np.where(df[\"Balcony\"]<min_bal,min_bal\n",
    "                        ,np.where(df[\"Balcony\"]>max_bal,max_bal,df[\"Balcony\"]))"
   ],
   "id": "cedcd62b964501eb",
   "outputs": [],
   "execution_count": 55
  },
  {
   "metadata": {
    "ExecuteTime": {
     "end_time": "2025-05-24T05:20:24.767305Z",
     "start_time": "2025-05-24T05:20:24.491386Z"
    }
   },
   "cell_type": "code",
   "source": [
    "sns.boxplot(x=df['Balcony'])\n",
    "plt.show()"
   ],
   "id": "83de4a76873cf841",
   "outputs": [
    {
     "data": {
      "text/plain": [
       "<Figure size 640x480 with 1 Axes>"
      ],
      "image/png": "[encoded data removed]"
     },
     "metadata": {},
     "output_type": "display_data"
    }
   ],
   "execution_count": 56
  },
  {
   "metadata": {
    "ExecuteTime": {
     "end_time": "2025-05-24T05:20:24.882967Z",
     "start_time": "2025-05-24T05:20:24.819366Z"
    }
   },
   "cell_type": "code",
   "source": "df.isnull().sum()",
   "id": "cc54a79fecc984bc",
   "outputs": [
    {
     "data": {
      "text/plain": [
       "Index                0\n",
       "Title                0\n",
       "Description          0\n",
       "Amount(in rupees)    0\n",
       "location             0\n",
       "Status               0\n",
       "Transaction          0\n",
       "Furnishing           0\n",
       "Bathroom             0\n",
       "Balcony              0\n",
       "Ownership            0\n",
       "BHK                  0\n",
       "dtype: int64"
      ]
     },
     "execution_count": 57,
     "metadata": {},
     "output_type": "execute_result"
    }
   ],
   "execution_count": 57
  },
  {
   "metadata": {
    "ExecuteTime": {
     "end_time": "2025-05-24T05:20:25.020821Z",
     "start_time": "2025-05-24T05:20:24.971725Z"
    }
   },
   "cell_type": "code",
   "source": "df.describe()",
   "id": "624abb8c9f316ed8",
   "outputs": [
    {
     "data": {
      "text/plain": [
       "       Amount(in rupees)       Bathroom        Balcony            BHK\n",
       "count       1.875310e+05  187531.000000  187531.000000  187531.000000\n",
       "mean        1.023605e+07       2.403395       1.937872       2.561827\n",
       "std         7.312587e+06       0.803138       0.677444       0.753986\n",
       "min         1.000000e+05       1.000000       1.000000       1.000000\n",
       "25%         5.000000e+06       2.000000       1.000000       2.000000\n",
       "50%         7.800000e+06       2.000000       2.000000       3.000000\n",
       "75%         1.360000e+07       3.000000       2.000000       3.000000\n",
       "max         2.650000e+07       4.000000       3.000000       4.000000"
      ],
      "text/html": [
       "<div>\n",
       "<style scoped>\n",
       "    .dataframe tbody tr th:only-of-type {\n",
       "        vertical-align: middle;\n",
       "    }\n",
       "\n",
       "    .dataframe tbody tr th {\n",
       "        vertical-align: top;\n",
       "    }\n",
       "\n",
       "    .dataframe thead th {\n",
       "        text-align: right;\n",
       "    }\n",
       "</style>\n",
       "<table border=\"1\" class=\"dataframe\">\n",
       "  <thead>\n",
       "    <tr style=\"text-align: right;\">\n",
       "      <th></th>\n",
       "      <th>Amount(in rupees)</th>\n",
       "      <th>Bathroom</th>\n",
       "      <th>Balcony</th>\n",
       "      <th>BHK</th>\n",
       "    </tr>\n",
       "  </thead>\n",
       "  <tbody>\n",
       "    <tr>\n",
       "      <th>count</th>\n",
       "      <td>1.875310e+05</td>\n",
       "      <td>187531.000000</td>\n",
       "      <td>187531.000000</td>\n",
       "      <td>187531.000000</td>\n",
       "    </tr>\n",
       "    <tr>\n",
       "      <th>mean</th>\n",
       "      <td>1.023605e+07</td>\n",
       "      <td>2.403395</td>\n",
       "      <td>1.937872</td>\n",
       "      <td>2.561827</td>\n",
       "    </tr>\n",
       "    <tr>\n",
       "      <th>std</th>\n",
       "      <td>7.312587e+06</td>\n",
       "      <td>0.803138</td>\n",
       "      <td>0.677444</td>\n",
       "      <td>0.753986</td>\n",
       "    </tr>\n",
       "    <tr>\n",
       "      <th>min</th>\n",
       "      <td>1.000000e+05</td>\n",
       "      <td>1.000000</td>\n",
       "      <td>1.000000</td>\n",
       "      <td>1.000000</td>\n",
       "    </tr>\n",
       "    <tr>\n",
       "      <th>25%</th>\n",
       "      <td>5.000000e+06</td>\n",
       "      <td>2.000000</td>\n",
       "      <td>1.000000</td>\n",
       "      <td>2.000000</td>\n",
       "    </tr>\n",
       "    <tr>\n",
       "      <th>50%</th>\n",
       "      <td>7.800000e+06</td>\n",
       "      <td>2.000000</td>\n",
       "      <td>2.000000</td>\n",
       "      <td>3.000000</td>\n",
       "    </tr>\n",
       "    <tr>\n",
       "      <th>75%</th>\n",
       "      <td>1.360000e+07</td>\n",
       "      <td>3.000000</td>\n",
       "      <td>2.000000</td>\n",
       "      <td>3.000000</td>\n",
       "    </tr>\n",
       "    <tr>\n",
       "      <th>max</th>\n",
       "      <td>2.650000e+07</td>\n",
       "      <td>4.000000</td>\n",
       "      <td>3.000000</td>\n",
       "      <td>4.000000</td>\n",
       "    </tr>\n",
       "  </tbody>\n",
       "</table>\n",
       "</div>"
      ]
     },
     "execution_count": 58,
     "metadata": {},
     "output_type": "execute_result"
    }
   ],
   "execution_count": 58
  },
  {
   "metadata": {
    "ExecuteTime": {
     "end_time": "2025-05-24T05:20:25.288070Z",
     "start_time": "2025-05-24T05:20:25.208753Z"
    }
   },
   "cell_type": "code",
   "source": "df.info()\n",
   "id": "98e98ae8293e71b5",
   "outputs": [
    {
     "name": "stdout",
     "output_type": "stream",
     "text": [
      "<class 'pandas.core.frame.DataFrame'>\n",
      "RangeIndex: 187531 entries, 0 to 187530\n",
      "Data columns (total 12 columns):\n",
      " #   Column             Non-Null Count   Dtype  \n",
      "---  ------             --------------   -----  \n",
      " 0   Index              187531 non-null  object \n",
      " 1   Title              187531 non-null  object \n",
      " 2   Description        187531 non-null  object \n",
      " 3   Amount(in rupees)  187531 non-null  float64\n",
      " 4   location           187531 non-null  object \n",
      " 5   Status             187531 non-null  object \n",
      " 6   Transaction        187531 non-null  object \n",
      " 7   Furnishing         187531 non-null  object \n",
      " 8   Bathroom           187531 non-null  int64  \n",
      " 9   Balcony            187531 non-null  int64  \n",
      " 10  Ownership          187531 non-null  object \n",
      " 11  BHK                187531 non-null  int64  \n",
      "dtypes: float64(1), int64(3), object(8)\n",
      "memory usage: 17.2+ MB\n"
     ]
    }
   ],
   "execution_count": 59
  },
  {
   "metadata": {},
   "cell_type": "markdown",
   "source": "### Converting data frame into csv file",
   "id": "6de5bd86b481d141"
  },
  {
   "metadata": {
    "ExecuteTime": {
     "end_time": "2025-05-24T05:20:27.688809Z",
     "start_time": "2025-05-24T05:20:25.496872Z"
    }
   },
   "cell_type": "code",
   "source": "df.to_csv(\"house_prices_cleaned.csv\",index=False)",
   "id": "209c095ff2197965",
   "outputs": [],
   "execution_count": 60
  }
 ],
 "metadata": {
  "kernelspec": {
   "display_name": "Python 3",
   "language": "python",
   "name": "python3"
  },
  "language_info": {
   "codemirror_mode": {
    "name": "ipython",
    "version": 2
   },
   "file_extension": ".py",
   "mimetype": "text/x-python",
   "name": "python",
   "nbconvert_exporter": "python",
   "pygments_lexer": "ipython2",
   "version": "2.7.6"
  }
 },
 "nbformat": 4,
 "nbformat_minor": 5
}
